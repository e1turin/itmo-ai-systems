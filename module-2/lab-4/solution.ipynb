{
 "cells": [
  {
   "cell_type": "code",
   "execution_count": 4,
   "metadata": {},
   "outputs": [],
   "source": [
    "import pandas as pd\n",
    "import numpy as np\n",
    "import matplotlib.pyplot as plt\n",
    "import seaborn as sns\n",
    "import phik"
   ]
  },
  {
   "cell_type": "markdown",
   "metadata": {},
   "source": [
    "- Выбор датасетов:"
   ]
  },
  {
   "cell_type": "code",
   "execution_count": 5,
   "metadata": {},
   "outputs": [],
   "source": [
    "df = pd.read_csv(\"../res/california_housing_train.csv\")"
   ]
  },
  {
   "cell_type": "markdown",
   "metadata": {},
   "source": [
    "- Получите и визуализируйте статистику по датасету (включая количество, среднее значение, стандартное отклонение, минимум, максимум и различные квантили)."
   ]
  },
  {
   "cell_type": "markdown",
   "metadata": {},
   "source": [
    "Проверим, загрузилось ли и посмотрим, какие именно данные у нас есть"
   ]
  },
  {
   "cell_type": "code",
   "execution_count": 6,
   "metadata": {},
   "outputs": [
    {
     "data": {
      "text/html": [
       "<div>\n",
       "<style scoped>\n",
       "    .dataframe tbody tr th:only-of-type {\n",
       "        vertical-align: middle;\n",
       "    }\n",
       "\n",
       "    .dataframe tbody tr th {\n",
       "        vertical-align: top;\n",
       "    }\n",
       "\n",
       "    .dataframe thead th {\n",
       "        text-align: right;\n",
       "    }\n",
       "</style>\n",
       "<table border=\"1\" class=\"dataframe\">\n",
       "  <thead>\n",
       "    <tr style=\"text-align: right;\">\n",
       "      <th></th>\n",
       "      <th>longitude</th>\n",
       "      <th>latitude</th>\n",
       "      <th>housing_median_age</th>\n",
       "      <th>total_rooms</th>\n",
       "      <th>total_bedrooms</th>\n",
       "      <th>population</th>\n",
       "      <th>households</th>\n",
       "      <th>median_income</th>\n",
       "      <th>median_house_value</th>\n",
       "    </tr>\n",
       "  </thead>\n",
       "  <tbody>\n",
       "    <tr>\n",
       "      <th>10941</th>\n",
       "      <td>-120.87</td>\n",
       "      <td>37.77</td>\n",
       "      <td>9.0</td>\n",
       "      <td>4838.0</td>\n",
       "      <td>920.0</td>\n",
       "      <td>2460.0</td>\n",
       "      <td>923.0</td>\n",
       "      <td>3.5959</td>\n",
       "      <td>142700.0</td>\n",
       "    </tr>\n",
       "    <tr>\n",
       "      <th>5250</th>\n",
       "      <td>-118.14</td>\n",
       "      <td>34.11</td>\n",
       "      <td>52.0</td>\n",
       "      <td>2742.0</td>\n",
       "      <td>422.0</td>\n",
       "      <td>1153.0</td>\n",
       "      <td>414.0</td>\n",
       "      <td>8.1124</td>\n",
       "      <td>500001.0</td>\n",
       "    </tr>\n",
       "    <tr>\n",
       "      <th>10292</th>\n",
       "      <td>-120.05</td>\n",
       "      <td>36.98</td>\n",
       "      <td>16.0</td>\n",
       "      <td>3705.0</td>\n",
       "      <td>739.0</td>\n",
       "      <td>2463.0</td>\n",
       "      <td>697.0</td>\n",
       "      <td>2.5288</td>\n",
       "      <td>61800.0</td>\n",
       "    </tr>\n",
       "    <tr>\n",
       "      <th>2266</th>\n",
       "      <td>-117.42</td>\n",
       "      <td>34.02</td>\n",
       "      <td>9.0</td>\n",
       "      <td>5455.0</td>\n",
       "      <td>882.0</td>\n",
       "      <td>3015.0</td>\n",
       "      <td>858.0</td>\n",
       "      <td>4.2321</td>\n",
       "      <td>162800.0</td>\n",
       "    </tr>\n",
       "    <tr>\n",
       "      <th>6398</th>\n",
       "      <td>-118.26</td>\n",
       "      <td>33.97</td>\n",
       "      <td>52.0</td>\n",
       "      <td>1331.0</td>\n",
       "      <td>346.0</td>\n",
       "      <td>1144.0</td>\n",
       "      <td>362.0</td>\n",
       "      <td>1.5326</td>\n",
       "      <td>90600.0</td>\n",
       "    </tr>\n",
       "  </tbody>\n",
       "</table>\n",
       "</div>"
      ],
      "text/plain": [
       "       longitude  latitude  housing_median_age  total_rooms  total_bedrooms  \\\n",
       "10941    -120.87     37.77                 9.0       4838.0           920.0   \n",
       "5250     -118.14     34.11                52.0       2742.0           422.0   \n",
       "10292    -120.05     36.98                16.0       3705.0           739.0   \n",
       "2266     -117.42     34.02                 9.0       5455.0           882.0   \n",
       "6398     -118.26     33.97                52.0       1331.0           346.0   \n",
       "\n",
       "       population  households  median_income  median_house_value  \n",
       "10941      2460.0       923.0         3.5959            142700.0  \n",
       "5250       1153.0       414.0         8.1124            500001.0  \n",
       "10292      2463.0       697.0         2.5288             61800.0  \n",
       "2266       3015.0       858.0         4.2321            162800.0  \n",
       "6398       1144.0       362.0         1.5326             90600.0  "
      ]
     },
     "execution_count": 6,
     "metadata": {},
     "output_type": "execute_result"
    }
   ],
   "source": [
    "df.sample(n=5, random_state=42)"
   ]
  },
  {
   "cell_type": "code",
   "execution_count": 8,
   "metadata": {},
   "outputs": [
    {
     "name": "stdout",
     "output_type": "stream",
     "text": [
      "<class 'pandas.core.frame.DataFrame'>\n",
      "RangeIndex: 17000 entries, 0 to 16999\n",
      "Data columns (total 9 columns):\n",
      " #   Column              Non-Null Count  Dtype  \n",
      "---  ------              --------------  -----  \n",
      " 0   longitude           17000 non-null  float64\n",
      " 1   latitude            17000 non-null  float64\n",
      " 2   housing_median_age  17000 non-null  float64\n",
      " 3   total_rooms         17000 non-null  float64\n",
      " 4   total_bedrooms      17000 non-null  float64\n",
      " 5   population          17000 non-null  float64\n",
      " 6   households          17000 non-null  float64\n",
      " 7   median_income       17000 non-null  float64\n",
      " 8   median_house_value  17000 non-null  float64\n",
      "dtypes: float64(9)\n",
      "memory usage: 1.2 MB\n"
     ]
    },
    {
     "data": {
      "text/html": [
       "<div>\n",
       "<style scoped>\n",
       "    .dataframe tbody tr th:only-of-type {\n",
       "        vertical-align: middle;\n",
       "    }\n",
       "\n",
       "    .dataframe tbody tr th {\n",
       "        vertical-align: top;\n",
       "    }\n",
       "\n",
       "    .dataframe thead th {\n",
       "        text-align: right;\n",
       "    }\n",
       "</style>\n",
       "<table border=\"1\" class=\"dataframe\">\n",
       "  <thead>\n",
       "    <tr style=\"text-align: right;\">\n",
       "      <th></th>\n",
       "      <th>longitude</th>\n",
       "      <th>latitude</th>\n",
       "      <th>housing_median_age</th>\n",
       "      <th>total_rooms</th>\n",
       "      <th>total_bedrooms</th>\n",
       "      <th>population</th>\n",
       "      <th>households</th>\n",
       "      <th>median_income</th>\n",
       "      <th>median_house_value</th>\n",
       "    </tr>\n",
       "  </thead>\n",
       "  <tbody>\n",
       "    <tr>\n",
       "      <th>count</th>\n",
       "      <td>17000.000000</td>\n",
       "      <td>17000.000000</td>\n",
       "      <td>17000.000000</td>\n",
       "      <td>17000.000000</td>\n",
       "      <td>17000.000000</td>\n",
       "      <td>17000.000000</td>\n",
       "      <td>17000.000000</td>\n",
       "      <td>17000.000000</td>\n",
       "      <td>17000.000000</td>\n",
       "    </tr>\n",
       "    <tr>\n",
       "      <th>mean</th>\n",
       "      <td>-119.562108</td>\n",
       "      <td>35.625225</td>\n",
       "      <td>28.589353</td>\n",
       "      <td>2643.664412</td>\n",
       "      <td>539.410824</td>\n",
       "      <td>1429.573941</td>\n",
       "      <td>501.221941</td>\n",
       "      <td>3.883578</td>\n",
       "      <td>207300.912353</td>\n",
       "    </tr>\n",
       "    <tr>\n",
       "      <th>std</th>\n",
       "      <td>2.005166</td>\n",
       "      <td>2.137340</td>\n",
       "      <td>12.586937</td>\n",
       "      <td>2179.947071</td>\n",
       "      <td>421.499452</td>\n",
       "      <td>1147.852959</td>\n",
       "      <td>384.520841</td>\n",
       "      <td>1.908157</td>\n",
       "      <td>115983.764387</td>\n",
       "    </tr>\n",
       "    <tr>\n",
       "      <th>min</th>\n",
       "      <td>-124.350000</td>\n",
       "      <td>32.540000</td>\n",
       "      <td>1.000000</td>\n",
       "      <td>2.000000</td>\n",
       "      <td>1.000000</td>\n",
       "      <td>3.000000</td>\n",
       "      <td>1.000000</td>\n",
       "      <td>0.499900</td>\n",
       "      <td>14999.000000</td>\n",
       "    </tr>\n",
       "    <tr>\n",
       "      <th>25%</th>\n",
       "      <td>-121.790000</td>\n",
       "      <td>33.930000</td>\n",
       "      <td>18.000000</td>\n",
       "      <td>1462.000000</td>\n",
       "      <td>297.000000</td>\n",
       "      <td>790.000000</td>\n",
       "      <td>282.000000</td>\n",
       "      <td>2.566375</td>\n",
       "      <td>119400.000000</td>\n",
       "    </tr>\n",
       "    <tr>\n",
       "      <th>50%</th>\n",
       "      <td>-118.490000</td>\n",
       "      <td>34.250000</td>\n",
       "      <td>29.000000</td>\n",
       "      <td>2127.000000</td>\n",
       "      <td>434.000000</td>\n",
       "      <td>1167.000000</td>\n",
       "      <td>409.000000</td>\n",
       "      <td>3.544600</td>\n",
       "      <td>180400.000000</td>\n",
       "    </tr>\n",
       "    <tr>\n",
       "      <th>75%</th>\n",
       "      <td>-118.000000</td>\n",
       "      <td>37.720000</td>\n",
       "      <td>37.000000</td>\n",
       "      <td>3151.250000</td>\n",
       "      <td>648.250000</td>\n",
       "      <td>1721.000000</td>\n",
       "      <td>605.250000</td>\n",
       "      <td>4.767000</td>\n",
       "      <td>265000.000000</td>\n",
       "    </tr>\n",
       "    <tr>\n",
       "      <th>max</th>\n",
       "      <td>-114.310000</td>\n",
       "      <td>41.950000</td>\n",
       "      <td>52.000000</td>\n",
       "      <td>37937.000000</td>\n",
       "      <td>6445.000000</td>\n",
       "      <td>35682.000000</td>\n",
       "      <td>6082.000000</td>\n",
       "      <td>15.000100</td>\n",
       "      <td>500001.000000</td>\n",
       "    </tr>\n",
       "  </tbody>\n",
       "</table>\n",
       "</div>"
      ],
      "text/plain": [
       "          longitude      latitude  housing_median_age   total_rooms  \\\n",
       "count  17000.000000  17000.000000        17000.000000  17000.000000   \n",
       "mean    -119.562108     35.625225           28.589353   2643.664412   \n",
       "std        2.005166      2.137340           12.586937   2179.947071   \n",
       "min     -124.350000     32.540000            1.000000      2.000000   \n",
       "25%     -121.790000     33.930000           18.000000   1462.000000   \n",
       "50%     -118.490000     34.250000           29.000000   2127.000000   \n",
       "75%     -118.000000     37.720000           37.000000   3151.250000   \n",
       "max     -114.310000     41.950000           52.000000  37937.000000   \n",
       "\n",
       "       total_bedrooms    population    households  median_income  \\\n",
       "count    17000.000000  17000.000000  17000.000000   17000.000000   \n",
       "mean       539.410824   1429.573941    501.221941       3.883578   \n",
       "std        421.499452   1147.852959    384.520841       1.908157   \n",
       "min          1.000000      3.000000      1.000000       0.499900   \n",
       "25%        297.000000    790.000000    282.000000       2.566375   \n",
       "50%        434.000000   1167.000000    409.000000       3.544600   \n",
       "75%        648.250000   1721.000000    605.250000       4.767000   \n",
       "max       6445.000000  35682.000000   6082.000000      15.000100   \n",
       "\n",
       "       median_house_value  \n",
       "count        17000.000000  \n",
       "mean        207300.912353  \n",
       "std         115983.764387  \n",
       "min          14999.000000  \n",
       "25%         119400.000000  \n",
       "50%         180400.000000  \n",
       "75%         265000.000000  \n",
       "max         500001.000000  "
      ]
     },
     "execution_count": 8,
     "metadata": {},
     "output_type": "execute_result"
    }
   ],
   "source": [
    "df.info() # Что по распознанным типам?\n",
    "df.describe() # Статистики по данным"
   ]
  },
  {
   "cell_type": "markdown",
   "metadata": {},
   "source": [
    "> как видим, чинить распознанные типы не нужно"
   ]
  },
  {
   "cell_type": "markdown",
   "metadata": {},
   "source": [
    "- Проведите предварительную обработку данных, включая обработку отсутствующих\n",
    "  значений, кодирование категориальных признаков и нормировка."
   ]
  },
  {
   "cell_type": "code",
   "execution_count": 9,
   "metadata": {},
   "outputs": [
    {
     "data": {
      "text/plain": [
       "False"
      ]
     },
     "execution_count": 9,
     "metadata": {},
     "output_type": "execute_result"
    }
   ],
   "source": [
    "df.isna().values.any() # есть пропуски?"
   ]
  },
  {
   "cell_type": "markdown",
   "metadata": {},
   "source": [
    "> Типы распознаны, NaN'ов нет, все данные численные. Так что дополнительная обработка не нужна."
   ]
  },
  {
   "cell_type": "markdown",
   "metadata": {},
   "source": [
    "У нас же есть широта и долгота :thinking:... Давайте изобразим"
   ]
  },
  {
   "cell_type": "code",
   "execution_count": 7,
   "metadata": {},
   "outputs": [
    {
     "data": {
      "text/plain": [
       "<Axes: >"
      ]
     },
     "execution_count": 7,
     "metadata": {},
     "output_type": "execute_result"
    },
    {
     "data": {
      "image/png": "[encoded data removed]",
      "text/plain": [
       "<Figure size 640x480 with 1 Axes>"
      ]
     },
     "metadata": {},
     "output_type": "display_data"
    }
   ],
   "source": [
    "import geopandas as gpd\n",
    "gdf = gpd.GeoDataFrame(df, geometry=gpd.points_from_xy(df['longitude'], df['latitude']))\n",
    "gdf.plot()"
   ]
  },
  {
   "cell_type": "markdown",
   "metadata": {},
   "source": [
    "И правда похоже на Калифорнию :star_struck:"
   ]
  },
  {
   "cell_type": "markdown",
   "metadata": {},
   "source": [
    "- Разделите данные на обучающий и тестовый наборы данных."
   ]
  },
  {
   "cell_type": "code",
   "execution_count": 10,
   "metadata": {},
   "outputs": [],
   "source": [
    "from pandas import DataFrame\n",
    "def my_train_test_split(\n",
    "    *dataframes: DataFrame, \n",
    "    test_size: float=None, \n",
    "    random_state: float=None\n",
    ") -> list[DataFrame]:\n",
    "    if test_size is None:\n",
    "        return dataframes\n",
    "    if test_size < 0 or 1 < test_size:\n",
    "        raise ValueError(\"`train_size` must be a partial in range (0, 1)\")\n",
    "    \n",
    "    res = [None for _ in range(len(dataframes) * 2)]\n",
    "    for i, df in enumerate(dataframes):\n",
    "        test_data_size = int(len(df) * test_size)\n",
    "        indices = pd.Series(np.arange(0, len(df), 1))\n",
    "        test_indices = indices.sample(test_data_size, random_state=random_state)\n",
    "        test_data = df.iloc[test_indices]\n",
    "        train_data = df.iloc[indices.drop(test_indices)]\n",
    "        res[i * 2], res[i * 2 + 1] = train_data, test_data\n",
    "    return res"
   ]
  },
  {
   "cell_type": "code",
   "execution_count": 11,
   "metadata": {},
   "outputs": [],
   "source": [
    "df_train, df_test = my_train_test_split(df, test_size=0.3, random_state=42)"
   ]
  },
  {
   "cell_type": "markdown",
   "metadata": {},
   "source": [
    "- Реализуйте линейную регрессию с использованием метода наименьших квадратов без\n",
    "использования сторонних библиотек, кроме `NumPy` и `Pandas`. Использовать\n",
    "минимизацию суммы квадратов разностей между фактическими и предсказанными\n",
    "значениями для нахождения оптимальных коэффициентов."
   ]
  },
  {
   "cell_type": "markdown",
   "metadata": {},
   "source": [
    "# Линейная регрессия\n",
    "\n",
    "Линейные методы предполагают, что между признаками объекта и целевой переменной существует линейная зависимость, то есть\n",
    "$$\n",
    "    y = w_1 x_1 + w_2 x_2 + ... + w_k x_k + b,\n",
    "$$\n",
    "где $у$ — целевая переменная, $x_i$ — признак объекта $х$, $w_i$ — вес $i$-го признака, $b$ — bias (смещение, свободный член)\n",
    "\n",
    "Часто предполагают, что объект $х$ содержит в себе фиктивный признак равный 1 для представления свободного члена $b$. В этом случае формула принимает простой вид:\n",
    "$$\n",
    "    y = \\langle w, x \\rangle,\n",
    "$$\n",
    "где $\\langle \\cdot, \\cdot \\rangle$ — скалярное произведение векторов $w, x \\in \\mathbb{R}^n$.\n",
    "\n",
    "В матричной форме, в случае, когда у нас есть $m$ объектов формулу можно переписать следующим образом:\n",
    "$$\n",
    "    Y = Xw, \n",
    "$$\n",
    "где $Y$ — столбец размера $n$, $X$ — матрица признаков размера $n \\times k$, $w$ — вектор весов размера $k$.\n",
    "\n",
    "**Лосс:**\n",
    "$$\n",
    "\\begin{aligned}\n",
    "L(y_{pred}, Y) &= \\frac{1}{n}||y_{pred} - Y||^2_2 =\\\\\n",
    "&= \\frac{1}{n}||Xw - Y||^2_2 = \\frac{1}{n}\\sum_{i=1}^{n}\\left(\\sum_{j=1}^{m} x_{ij}w_j - y_i\\right)^2 =: L(w)\n",
    "\\end{aligned}\n",
    "$$\n",
    "\n",
    "## Аналитическое решение\n",
    "\n",
    "Минимизация ошибки по методу наименьших квадратов дает решение: \n",
    "$$\n",
    "    w = (X^TX)^{-1}X^TY \n",
    "$$\n",
    "\n",
    "Реализуем класс линейной регрессии с помощью этой формулы."
   ]
  },
  {
   "cell_type": "code",
   "execution_count": 12,
   "metadata": {},
   "outputs": [],
   "source": [
    "from pandas import DataFrame\n",
    "from typing import Self\n",
    "class MyLinearRegression(object):\n",
    "    def __init__(self, fit_intercept=True):\n",
    "        self.fit_intercept = fit_intercept\n",
    "\n",
    "    def fit(self, X: DataFrame, y: DataFrame) -> Self:\n",
    "        n, k = X.shape\n",
    "        X_train = X.values if not self.fit_intercept else np.hstack((X.values, np.ones((n, 1))))\n",
    "\n",
    "        self.w = np.linalg.inv(X_train.T @ X_train) @ X_train.T @ y.values\n",
    "\n",
    "        return self\n",
    "    \n",
    "    def predict(self, X: DataFrame) -> DataFrame:\n",
    "        n, k = X.shape\n",
    "        \n",
    "        X_train = X.values if not self.fit_intercept else np.hstack((X.values, np.ones((n,1))))\n",
    "        return X_train @ self.w"
   ]
  },
  {
   "cell_type": "code",
   "execution_count": 13,
   "metadata": {},
   "outputs": [],
   "source": [
    "def linear_expression(x):\n",
    "    return 5 * x + 6\n",
    "objects_num = 50\n",
    "X_data = np.linspace(-5, 5, objects_num)\n",
    "y_data = linear_expression(X_data) + np.random.randn(objects_num) * 5\n",
    "\n",
    "X = pd.DataFrame(X_data)\n",
    "y = pd.DataFrame(y_data)\n",
    "\n",
    "X_train, X_test, y_train, y_test = my_train_test_split(X, y, test_size=0.5, random_state=4)\n"
   ]
  },
  {
   "cell_type": "code",
   "execution_count": 14,
   "metadata": {},
   "outputs": [],
   "source": [
    "y_pred = MyLinearRegression().fit(X_train, y_train).predict(X_test)"
   ]
  },
  {
   "cell_type": "code",
   "execution_count": 15,
   "metadata": {},
   "outputs": [
    {
     "data": {
      "image/png": "[encoded data removed]",
      "text/plain": [
       "<Figure size 640x480 with 1 Axes>"
      ]
     },
     "metadata": {},
     "output_type": "display_data"
    }
   ],
   "source": [
    "plt.scatter(X_train, y_train, label='train', c='b')\n",
    "plt.scatter(X_test, y_test, label='test', c='orange')\n",
    "plt.plot(X_data, linear_expression(X_data), label='real', c='g')\n",
    "plt.plot(X_test, y_pred, label='predicted', c='r')\n",
    "plt.legend()\n",
    "plt.show()"
   ]
  },
  {
   "cell_type": "markdown",
   "metadata": {},
   "source": [
    "- Постройте **три модели** с различными наборами признаков.\n",
    "\n"
   ]
  },
  {
   "cell_type": "code",
   "execution_count": 16,
   "metadata": {},
   "outputs": [
    {
     "name": "stdout",
     "output_type": "stream",
     "text": [
      "interval columns not set, guessing: ['longitude', 'latitude', 'housing_median_age', 'total_rooms', 'total_bedrooms', 'population', 'households', 'median_income', 'median_house_value']\n"
     ]
    },
    {
     "data": {
      "text/plain": [
       "<Axes: >"
      ]
     },
     "execution_count": 16,
     "metadata": {},
     "output_type": "execute_result"
    },
    {
     "data": {
      "image/png": "[encoded data removed]",
      "text/plain": [
       "<Figure size 640x480 with 2 Axes>"
      ]
     },
     "metadata": {},
     "output_type": "display_data"
    }
   ],
   "source": [
    "sns.heatmap(df.phik_matrix(), cmap='crest')"
   ]
  },
  {
   "cell_type": "markdown",
   "metadata": {},
   "source": [
    "- Для каждой модели проведите оценку производительности, используя метрику\n",
    "  коэффициент детерминации, чтобы измерить, насколько хорошо модель\n",
    "  соответствует данным.\n",
    "\n"
   ]
  },
  {
   "cell_type": "code",
   "execution_count": null,
   "metadata": {},
   "outputs": [],
   "source": []
  },
  {
   "cell_type": "markdown",
   "metadata": {},
   "source": [
    "- Сравните результаты трех моделей и сделайте выводы о том, какие признаки\n",
    "  работают лучше всего для каждой модели.\n",
    "\n"
   ]
  },
  {
   "cell_type": "code",
   "execution_count": null,
   "metadata": {},
   "outputs": [],
   "source": []
  },
  {
   "cell_type": "markdown",
   "metadata": {},
   "source": [
    "- Бонусное задание\n",
    "    - Ввести синтетический признак при построении модели\n"
   ]
  },
  {
   "cell_type": "code",
   "execution_count": null,
   "metadata": {},
   "outputs": [],
   "source": []
  }
 ],
 "metadata": {
  "kernelspec": {
   "display_name": "venv",
   "language": "python",
   "name": "python3"
  },
  "language_info": {
   "codemirror_mode": {
    "name": "ipython",
    "version": 3
   },
   "file_extension": ".py",
   "mimetype": "text/x-python",
   "name": "python",
   "nbconvert_exporter": "python",
   "pygments_lexer": "ipython3",
   "version": "3.11.0"
  }
 },
 "nbformat": 4,
 "nbformat_minor": 2
}
